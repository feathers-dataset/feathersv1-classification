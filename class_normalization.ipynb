{
  "nbformat": 4,
  "nbformat_minor": 0,
  "metadata": {
    "colab": {
      "name": "Class_normalization.ipynb",
      "provenance": [],
      "collapsed_sections": []
    },
    "kernelspec": {
      "name": "python3",
      "display_name": "Python 3"
    }
  },
  "cells": [
    {
      "cell_type": "code",
      "metadata": {
        "id": "IsJbempRGWA3",
        "colab_type": "code",
        "colab": {}
      },
      "source": [
        "import pandas as pd\n",
        "import numpy as np"
      ],
      "execution_count": 1,
      "outputs": []
    },
    {
      "cell_type": "markdown",
      "metadata": {
        "id": "FfVDy3kDKrGM",
        "colab_type": "text"
      },
      "source": [
        "# Load full list of images\n",
        "Classes with more than 300 images cut down"
      ]
    },
    {
      "cell_type": "code",
      "metadata": {
        "id": "u-ot8hBBKDTa",
        "colab_type": "code",
        "colab": {}
      },
      "source": [
        "DATASET_CSV = \"feathers_data_cut.csv\"\n",
        "MIN_IMAGES = 50\n",
        "MAX_IMAGES = 300"
      ],
      "execution_count": 2,
      "outputs": []
    },
    {
      "cell_type": "code",
      "metadata": {
        "id": "h0JoVx35K1Ou",
        "colab_type": "code",
        "colab": {
          "base_uri": "https://localhost:8080/",
          "height": 202
        },
        "outputId": "933a2742-3f86-42fe-ea3c-1b9cc33117ce"
      },
      "source": [
        "images = pd.read_csv(DATASET_CSV)\n",
        "images.head()"
      ],
      "execution_count": 3,
      "outputs": [
        {
          "output_type": "execute_result",
          "data": {
            "text/html": [
              "<div>\n",
              "<style scoped>\n",
              "    .dataframe tbody tr th:only-of-type {\n",
              "        vertical-align: middle;\n",
              "    }\n",
              "\n",
              "    .dataframe tbody tr th {\n",
              "        vertical-align: top;\n",
              "    }\n",
              "\n",
              "    .dataframe thead th {\n",
              "        text-align: right;\n",
              "    }\n",
              "</style>\n",
              "<table border=\"1\" class=\"dataframe\">\n",
              "  <thead>\n",
              "    <tr style=\"text-align: right;\">\n",
              "      <th></th>\n",
              "      <th>filename</th>\n",
              "      <th>order</th>\n",
              "      <th>species</th>\n",
              "    </tr>\n",
              "  </thead>\n",
              "  <tbody>\n",
              "    <tr>\n",
              "      <th>0</th>\n",
              "      <td>accipitriformes_accipiter_brevipes_00000.jpg</td>\n",
              "      <td>Accipitriformes</td>\n",
              "      <td>Accipiter Brevipes</td>\n",
              "    </tr>\n",
              "    <tr>\n",
              "      <th>1</th>\n",
              "      <td>accipitriformes_accipiter_brevipes_00001.jpg</td>\n",
              "      <td>Accipitriformes</td>\n",
              "      <td>Accipiter Brevipes</td>\n",
              "    </tr>\n",
              "    <tr>\n",
              "      <th>2</th>\n",
              "      <td>accipitriformes_accipiter_brevipes_00002.jpg</td>\n",
              "      <td>Accipitriformes</td>\n",
              "      <td>Accipiter Brevipes</td>\n",
              "    </tr>\n",
              "    <tr>\n",
              "      <th>3</th>\n",
              "      <td>accipitriformes_accipiter_brevipes_00003.jpg</td>\n",
              "      <td>Accipitriformes</td>\n",
              "      <td>Accipiter Brevipes</td>\n",
              "    </tr>\n",
              "    <tr>\n",
              "      <th>4</th>\n",
              "      <td>accipitriformes_accipiter_brevipes_00004.jpg</td>\n",
              "      <td>Accipitriformes</td>\n",
              "      <td>Accipiter Brevipes</td>\n",
              "    </tr>\n",
              "  </tbody>\n",
              "</table>\n",
              "</div>"
            ],
            "text/plain": [
              "                                       filename  ...             species\n",
              "0  accipitriformes_accipiter_brevipes_00000.jpg  ...  Accipiter Brevipes\n",
              "1  accipitriformes_accipiter_brevipes_00001.jpg  ...  Accipiter Brevipes\n",
              "2  accipitriformes_accipiter_brevipes_00002.jpg  ...  Accipiter Brevipes\n",
              "3  accipitriformes_accipiter_brevipes_00003.jpg  ...  Accipiter Brevipes\n",
              "4  accipitriformes_accipiter_brevipes_00004.jpg  ...  Accipiter Brevipes\n",
              "\n",
              "[5 rows x 3 columns]"
            ]
          },
          "metadata": {
            "tags": []
          },
          "execution_count": 3
        }
      ]
    },
    {
      "cell_type": "code",
      "metadata": {
        "id": "guVgbF9RRfD_",
        "colab_type": "code",
        "colab": {
          "base_uri": "https://localhost:8080/",
          "height": 283
        },
        "outputId": "a69bf325-36b5-4562-96c0-8740ae8210de"
      },
      "source": [
        "images['species'].value_counts().plot()"
      ],
      "execution_count": 4,
      "outputs": [
        {
          "output_type": "execute_result",
          "data": {
            "text/plain": [
              "<matplotlib.axes._subplots.AxesSubplot at 0x7ff2961dbb38>"
            ]
          },
          "metadata": {
            "tags": []
          },
          "execution_count": 4
        },
        {
          "output_type": "display_data",
          "data": {
            "image/png": "[encoded data removed]",
            "text/plain": [
              "<Figure size 432x288 with 1 Axes>"
            ]
          },
          "metadata": {
            "tags": [],
            "needs_background": "light"
          }
        }
      ]
    },
    {
      "cell_type": "markdown",
      "metadata": {
        "id": "zxu-x-fRoTEF",
        "colab_type": "text"
      },
      "source": [
        "# Add taxonomic family\n",
        "Birds taxonomic is based on The Howard and Moore complete checklist of the birds of the world, 4th. ed.\n",
        "Downloaded from howardandmoore.org (currently unavailable)"
      ]
    },
    {
      "cell_type": "code",
      "metadata": {
        "id": "-LfeQQrKkpT6",
        "colab_type": "code",
        "colab": {
          "base_uri": "https://localhost:8080/",
          "height": 202
        },
        "outputId": "972dede5-2ae8-405e-892c-8d6f354d4a00"
      },
      "source": [
        "HOWARDMOORE_DATA = \"HowardMooreDataset.csv\"\n",
        "taxonomy = pd.read_csv(HOWARDMOORE_DATA)\n",
        "taxonomy.tail()"
      ],
      "execution_count": 5,
      "outputs": [
        {
          "output_type": "execute_result",
          "data": {
            "text/html": [
              "<div>\n",
              "<style scoped>\n",
              "    .dataframe tbody tr th:only-of-type {\n",
              "        vertical-align: middle;\n",
              "    }\n",
              "\n",
              "    .dataframe tbody tr th {\n",
              "        vertical-align: top;\n",
              "    }\n",
              "\n",
              "    .dataframe thead th {\n",
              "        text-align: right;\n",
              "    }\n",
              "</style>\n",
              "<table border=\"1\" class=\"dataframe\">\n",
              "  <thead>\n",
              "    <tr style=\"text-align: right;\">\n",
              "      <th></th>\n",
              "      <th>family</th>\n",
              "      <th>genus</th>\n",
              "      <th>species</th>\n",
              "      <th>species english</th>\n",
              "    </tr>\n",
              "  </thead>\n",
              "  <tbody>\n",
              "    <tr>\n",
              "      <th>26152</th>\n",
              "      <td>TURDIDAE</td>\n",
              "      <td>TURDUS</td>\n",
              "      <td>Turdus ruficollis</td>\n",
              "      <td>Red-throated Thrush</td>\n",
              "    </tr>\n",
              "    <tr>\n",
              "      <th>26153</th>\n",
              "      <td>TURDIDAE</td>\n",
              "      <td>CATAPONERA</td>\n",
              "      <td>Cataponera turdoides</td>\n",
              "      <td>Sulawesi Thrush</td>\n",
              "    </tr>\n",
              "    <tr>\n",
              "      <th>26154</th>\n",
              "      <td>TURDIDAE</td>\n",
              "      <td>CATAPONERA</td>\n",
              "      <td>Cataponera turdoides</td>\n",
              "      <td>Sulawesi Thrush</td>\n",
              "    </tr>\n",
              "    <tr>\n",
              "      <th>26155</th>\n",
              "      <td>TURDIDAE</td>\n",
              "      <td>CATAPONERA</td>\n",
              "      <td>Cataponera turdoides</td>\n",
              "      <td>Sulawesi Thrush</td>\n",
              "    </tr>\n",
              "    <tr>\n",
              "      <th>26156</th>\n",
              "      <td>TURDIDAE</td>\n",
              "      <td>CATAPONERA</td>\n",
              "      <td>Cataponera turdoides</td>\n",
              "      <td>Sulawesi Thrush</td>\n",
              "    </tr>\n",
              "  </tbody>\n",
              "</table>\n",
              "</div>"
            ],
            "text/plain": [
              "         family       genus               species      species english\n",
              "26152  TURDIDAE      TURDUS     Turdus ruficollis  Red-throated Thrush\n",
              "26153  TURDIDAE  CATAPONERA  Cataponera turdoides      Sulawesi Thrush\n",
              "26154  TURDIDAE  CATAPONERA  Cataponera turdoides      Sulawesi Thrush\n",
              "26155  TURDIDAE  CATAPONERA  Cataponera turdoides      Sulawesi Thrush\n",
              "26156  TURDIDAE  CATAPONERA  Cataponera turdoides      Sulawesi Thrush"
            ]
          },
          "metadata": {
            "tags": []
          },
          "execution_count": 5
        }
      ]
    },
    {
      "cell_type": "code",
      "metadata": {
        "id": "ZRPMaLOTHqMY",
        "colab_type": "code",
        "colab": {}
      },
      "source": [
        "families = taxonomy.drop(['genus', 'species english'], axis=1)\n",
        "families = families.drop_duplicates(subset=['species']).reset_index(drop=True)"
      ],
      "execution_count": 6,
      "outputs": []
    },
    {
      "cell_type": "code",
      "metadata": {
        "id": "19P4Ndh4Ilzx",
        "colab_type": "code",
        "colab": {
          "base_uri": "https://localhost:8080/",
          "height": 202
        },
        "outputId": "f41cab81-9495-4d8e-d719-f1c469a10d9d"
      },
      "source": [
        "families.tail()"
      ],
      "execution_count": 7,
      "outputs": [
        {
          "output_type": "execute_result",
          "data": {
            "text/html": [
              "<div>\n",
              "<style scoped>\n",
              "    .dataframe tbody tr th:only-of-type {\n",
              "        vertical-align: middle;\n",
              "    }\n",
              "\n",
              "    .dataframe tbody tr th {\n",
              "        vertical-align: top;\n",
              "    }\n",
              "\n",
              "    .dataframe thead th {\n",
              "        text-align: right;\n",
              "    }\n",
              "</style>\n",
              "<table border=\"1\" class=\"dataframe\">\n",
              "  <thead>\n",
              "    <tr style=\"text-align: right;\">\n",
              "      <th></th>\n",
              "      <th>family</th>\n",
              "      <th>species</th>\n",
              "    </tr>\n",
              "  </thead>\n",
              "  <tbody>\n",
              "    <tr>\n",
              "      <th>10130</th>\n",
              "      <td>TURDIDAE</td>\n",
              "      <td>Turdus naumanni</td>\n",
              "    </tr>\n",
              "    <tr>\n",
              "      <th>10131</th>\n",
              "      <td>TURDIDAE</td>\n",
              "      <td>Turdus eunomus</td>\n",
              "    </tr>\n",
              "    <tr>\n",
              "      <th>10132</th>\n",
              "      <td>TURDIDAE</td>\n",
              "      <td>Turdus atrogularis</td>\n",
              "    </tr>\n",
              "    <tr>\n",
              "      <th>10133</th>\n",
              "      <td>TURDIDAE</td>\n",
              "      <td>Turdus ruficollis</td>\n",
              "    </tr>\n",
              "    <tr>\n",
              "      <th>10134</th>\n",
              "      <td>TURDIDAE</td>\n",
              "      <td>Cataponera turdoides</td>\n",
              "    </tr>\n",
              "  </tbody>\n",
              "</table>\n",
              "</div>"
            ],
            "text/plain": [
              "         family               species\n",
              "10130  TURDIDAE       Turdus naumanni\n",
              "10131  TURDIDAE        Turdus eunomus\n",
              "10132  TURDIDAE    Turdus atrogularis\n",
              "10133  TURDIDAE     Turdus ruficollis\n",
              "10134  TURDIDAE  Cataponera turdoides"
            ]
          },
          "metadata": {
            "tags": []
          },
          "execution_count": 7
        }
      ]
    },
    {
      "cell_type": "code",
      "metadata": {
        "id": "fFHN089QZFil",
        "colab_type": "code",
        "colab": {}
      },
      "source": [
        "images.species = images.species.str.strip()\n",
        "families.species = families.species.str.strip()\n",
        "families['family'] = families['family'].str.title()\n",
        "\n",
        "images['species'] = images['species'].str.title()\n",
        "families['species'] = families['species'].str.title()"
      ],
      "execution_count": 8,
      "outputs": []
    },
    {
      "cell_type": "code",
      "metadata": {
        "id": "KLu46rlVFRx_",
        "colab_type": "code",
        "colab": {}
      },
      "source": [
        "images = pd.merge(images, families, on=['species'])"
      ],
      "execution_count": 9,
      "outputs": []
    },
    {
      "cell_type": "code",
      "metadata": {
        "id": "Ken9xL3fF2-I",
        "colab_type": "code",
        "colab": {
          "base_uri": "https://localhost:8080/",
          "height": 202
        },
        "outputId": "fe335f3b-95ec-48f7-f3a5-9f48c65474ee"
      },
      "source": [
        "images.head()"
      ],
      "execution_count": 10,
      "outputs": [
        {
          "output_type": "execute_result",
          "data": {
            "text/html": [
              "<div>\n",
              "<style scoped>\n",
              "    .dataframe tbody tr th:only-of-type {\n",
              "        vertical-align: middle;\n",
              "    }\n",
              "\n",
              "    .dataframe tbody tr th {\n",
              "        vertical-align: top;\n",
              "    }\n",
              "\n",
              "    .dataframe thead th {\n",
              "        text-align: right;\n",
              "    }\n",
              "</style>\n",
              "<table border=\"1\" class=\"dataframe\">\n",
              "  <thead>\n",
              "    <tr style=\"text-align: right;\">\n",
              "      <th></th>\n",
              "      <th>filename</th>\n",
              "      <th>order</th>\n",
              "      <th>species</th>\n",
              "      <th>family</th>\n",
              "    </tr>\n",
              "  </thead>\n",
              "  <tbody>\n",
              "    <tr>\n",
              "      <th>0</th>\n",
              "      <td>accipitriformes_accipiter_brevipes_00000.jpg</td>\n",
              "      <td>Accipitriformes</td>\n",
              "      <td>Accipiter Brevipes</td>\n",
              "      <td>Accipitridae</td>\n",
              "    </tr>\n",
              "    <tr>\n",
              "      <th>1</th>\n",
              "      <td>accipitriformes_accipiter_brevipes_00001.jpg</td>\n",
              "      <td>Accipitriformes</td>\n",
              "      <td>Accipiter Brevipes</td>\n",
              "      <td>Accipitridae</td>\n",
              "    </tr>\n",
              "    <tr>\n",
              "      <th>2</th>\n",
              "      <td>accipitriformes_accipiter_brevipes_00002.jpg</td>\n",
              "      <td>Accipitriformes</td>\n",
              "      <td>Accipiter Brevipes</td>\n",
              "      <td>Accipitridae</td>\n",
              "    </tr>\n",
              "    <tr>\n",
              "      <th>3</th>\n",
              "      <td>accipitriformes_accipiter_brevipes_00003.jpg</td>\n",
              "      <td>Accipitriformes</td>\n",
              "      <td>Accipiter Brevipes</td>\n",
              "      <td>Accipitridae</td>\n",
              "    </tr>\n",
              "    <tr>\n",
              "      <th>4</th>\n",
              "      <td>accipitriformes_accipiter_brevipes_00004.jpg</td>\n",
              "      <td>Accipitriformes</td>\n",
              "      <td>Accipiter Brevipes</td>\n",
              "      <td>Accipitridae</td>\n",
              "    </tr>\n",
              "  </tbody>\n",
              "</table>\n",
              "</div>"
            ],
            "text/plain": [
              "                                       filename  ...        family\n",
              "0  accipitriformes_accipiter_brevipes_00000.jpg  ...  Accipitridae\n",
              "1  accipitriformes_accipiter_brevipes_00001.jpg  ...  Accipitridae\n",
              "2  accipitriformes_accipiter_brevipes_00002.jpg  ...  Accipitridae\n",
              "3  accipitriformes_accipiter_brevipes_00003.jpg  ...  Accipitridae\n",
              "4  accipitriformes_accipiter_brevipes_00004.jpg  ...  Accipitridae\n",
              "\n",
              "[5 rows x 4 columns]"
            ]
          },
          "metadata": {
            "tags": []
          },
          "execution_count": 10
        }
      ]
    },
    {
      "cell_type": "markdown",
      "metadata": {
        "id": "H91q7FDKqkGf",
        "colab_type": "text"
      },
      "source": [
        "# Merge minor species by genus"
      ]
    },
    {
      "cell_type": "code",
      "metadata": {
        "id": "0gHRjp8uNjR5",
        "colab_type": "code",
        "colab": {}
      },
      "source": [
        "count = images.groupby('species').count()"
      ],
      "execution_count": 11,
      "outputs": []
    },
    {
      "cell_type": "code",
      "metadata": {
        "id": "gUjZ6lpujHaS",
        "colab_type": "code",
        "colab": {}
      },
      "source": [
        "minor_species = count.loc[count['filename'] < MIN_IMAGES]"
      ],
      "execution_count": 12,
      "outputs": []
    },
    {
      "cell_type": "code",
      "metadata": {
        "id": "4djLt3N1lTzl",
        "colab_type": "code",
        "colab": {}
      },
      "source": [
        "species_list = minor_species.index.to_list()"
      ],
      "execution_count": 13,
      "outputs": []
    },
    {
      "cell_type": "code",
      "metadata": {
        "id": "k2z78VwDZcKD",
        "colab_type": "code",
        "colab": {}
      },
      "source": [
        "def merge_species(name):\n",
        "  name = name.split(' ')[0] + \" sp.\"\n",
        "  return name"
      ],
      "execution_count": 14,
      "outputs": []
    },
    {
      "cell_type": "code",
      "metadata": {
        "id": "dFmSdseLOSUv",
        "colab_type": "code",
        "colab": {}
      },
      "source": [
        "images['species'] = images['species'].apply(lambda x : merge_species(x) if x in species_list else x)"
      ],
      "execution_count": 15,
      "outputs": []
    },
    {
      "cell_type": "code",
      "metadata": {
        "id": "oNSaM-ufssIl",
        "colab_type": "code",
        "colab": {
          "base_uri": "https://localhost:8080/",
          "height": 202
        },
        "outputId": "ef6e7ef8-94cb-4fe3-f8fb-9a2e09e1d721"
      },
      "source": [
        "images.tail()"
      ],
      "execution_count": 16,
      "outputs": [
        {
          "output_type": "execute_result",
          "data": {
            "text/html": [
              "<div>\n",
              "<style scoped>\n",
              "    .dataframe tbody tr th:only-of-type {\n",
              "        vertical-align: middle;\n",
              "    }\n",
              "\n",
              "    .dataframe tbody tr th {\n",
              "        vertical-align: top;\n",
              "    }\n",
              "\n",
              "    .dataframe thead th {\n",
              "        text-align: right;\n",
              "    }\n",
              "</style>\n",
              "<table border=\"1\" class=\"dataframe\">\n",
              "  <thead>\n",
              "    <tr style=\"text-align: right;\">\n",
              "      <th></th>\n",
              "      <th>filename</th>\n",
              "      <th>order</th>\n",
              "      <th>species</th>\n",
              "      <th>family</th>\n",
              "    </tr>\n",
              "  </thead>\n",
              "  <tbody>\n",
              "    <tr>\n",
              "      <th>25250</th>\n",
              "      <td>coraciiformes_megaceryle_torquata_00034.jpg</td>\n",
              "      <td>Coraciiformes</td>\n",
              "      <td>Megaceryle sp.</td>\n",
              "      <td>Alcedinidae</td>\n",
              "    </tr>\n",
              "    <tr>\n",
              "      <th>25251</th>\n",
              "      <td>coraciiformes_megaceryle_torquata_00035.jpg</td>\n",
              "      <td>Coraciiformes</td>\n",
              "      <td>Megaceryle sp.</td>\n",
              "      <td>Alcedinidae</td>\n",
              "    </tr>\n",
              "    <tr>\n",
              "      <th>25252</th>\n",
              "      <td>coraciiformes_megaceryle_torquata_00036.jpg</td>\n",
              "      <td>Coraciiformes</td>\n",
              "      <td>Megaceryle sp.</td>\n",
              "      <td>Alcedinidae</td>\n",
              "    </tr>\n",
              "    <tr>\n",
              "      <th>25253</th>\n",
              "      <td>coraciiformes_megaceryle_torquata_00037.jpg</td>\n",
              "      <td>Coraciiformes</td>\n",
              "      <td>Megaceryle sp.</td>\n",
              "      <td>Alcedinidae</td>\n",
              "    </tr>\n",
              "    <tr>\n",
              "      <th>25254</th>\n",
              "      <td>coraciiformes_megaceryle_torquata_00038.jpg</td>\n",
              "      <td>Coraciiformes</td>\n",
              "      <td>Megaceryle sp.</td>\n",
              "      <td>Alcedinidae</td>\n",
              "    </tr>\n",
              "  </tbody>\n",
              "</table>\n",
              "</div>"
            ],
            "text/plain": [
              "                                          filename  ...       family\n",
              "25250  coraciiformes_megaceryle_torquata_00034.jpg  ...  Alcedinidae\n",
              "25251  coraciiformes_megaceryle_torquata_00035.jpg  ...  Alcedinidae\n",
              "25252  coraciiformes_megaceryle_torquata_00036.jpg  ...  Alcedinidae\n",
              "25253  coraciiformes_megaceryle_torquata_00037.jpg  ...  Alcedinidae\n",
              "25254  coraciiformes_megaceryle_torquata_00038.jpg  ...  Alcedinidae\n",
              "\n",
              "[5 rows x 4 columns]"
            ]
          },
          "metadata": {
            "tags": []
          },
          "execution_count": 16
        }
      ]
    },
    {
      "cell_type": "code",
      "metadata": {
        "id": "7Oj-89UTszVT",
        "colab_type": "code",
        "colab": {
          "base_uri": "https://localhost:8080/",
          "height": 225
        },
        "outputId": "bf534432-f5f7-4af7-ac76-b28033787dcf"
      },
      "source": [
        "images['species'].value_counts()"
      ],
      "execution_count": 17,
      "outputs": [
        {
          "output_type": "execute_result",
          "data": {
            "text/plain": [
              "Carduelis Carduelis      345\n",
              "Asio Otus                315\n",
              "Accipiter Gentilis       301\n",
              "Haematopus Ostralegus    301\n",
              "Accipiter Nisus          301\n",
              "                        ... \n",
              "Pulsatrix sp.              2\n",
              "Clamator sp.               1\n",
              "Argusianus sp.             1\n",
              "Guttera sp.                1\n",
              "Francolinus sp.            1\n",
              "Name: species, Length: 412, dtype: int64"
            ]
          },
          "metadata": {
            "tags": []
          },
          "execution_count": 17
        }
      ]
    },
    {
      "cell_type": "code",
      "metadata": {
        "id": "xp3wJ8qZRXpo",
        "colab_type": "code",
        "colab": {
          "base_uri": "https://localhost:8080/",
          "height": 283
        },
        "outputId": "9d042a43-1087-42a6-cca3-884c8b2d5d75"
      },
      "source": [
        "images['species'].value_counts().plot()"
      ],
      "execution_count": 18,
      "outputs": [
        {
          "output_type": "execute_result",
          "data": {
            "text/plain": [
              "<matplotlib.axes._subplots.AxesSubplot at 0x7ff295ab25c0>"
            ]
          },
          "metadata": {
            "tags": []
          },
          "execution_count": 18
        },
        {
          "output_type": "display_data",
          "data": {
            "image/png": "[encoded data removed]",
            "text/plain": [
              "<Figure size 432x288 with 1 Axes>"
            ]
          },
          "metadata": {
            "tags": [],
            "needs_background": "light"
          }
        }
      ]
    },
    {
      "cell_type": "markdown",
      "metadata": {
        "id": "C1psPsrBqwKa",
        "colab_type": "text"
      },
      "source": [
        "# Merge minor genuses by family"
      ]
    },
    {
      "cell_type": "code",
      "metadata": {
        "id": "no5YQqmNM-3F",
        "colab_type": "code",
        "colab": {}
      },
      "source": [
        "def merge_genuses(row):\n",
        "    if (row['species'] in genus_list):\n",
        "        return row['family']\n",
        "    else:\n",
        "      return row['species']"
      ],
      "execution_count": 19,
      "outputs": []
    },
    {
      "cell_type": "code",
      "metadata": {
        "id": "Im4hPrxZNicl",
        "colab_type": "code",
        "colab": {}
      },
      "source": [
        "count = images.groupby('species').count()\n",
        "minor_genus = count.loc[count['filename'] < MIN_IMAGES]\n",
        "genus_list = minor_genus.index.to_list()"
      ],
      "execution_count": 20,
      "outputs": []
    },
    {
      "cell_type": "code",
      "metadata": {
        "id": "2erwIv-g6gnv",
        "colab_type": "code",
        "colab": {}
      },
      "source": [
        "images['species'] = images.apply(merge_genuses, axis = 1)"
      ],
      "execution_count": 21,
      "outputs": []
    },
    {
      "cell_type": "code",
      "metadata": {
        "id": "dPZQDgWgQnFi",
        "colab_type": "code",
        "colab": {
          "base_uri": "https://localhost:8080/",
          "height": 225
        },
        "outputId": "e51017b2-a41c-43d4-fa7e-5a224c243971"
      },
      "source": [
        "images['species'].value_counts()"
      ],
      "execution_count": 22,
      "outputs": [
        {
          "output_type": "execute_result",
          "data": {
            "text/plain": [
              "Carduelis Carduelis      345\n",
              "Asio Otus                315\n",
              "Accipiter Nisus          301\n",
              "Accipiter Gentilis       301\n",
              "Haematopus Ostralegus    301\n",
              "                        ... \n",
              "Cracidae                   6\n",
              "Sulidae                    5\n",
              "Phaenicophilidae           3\n",
              "Icteridae                  3\n",
              "Numididae                  1\n",
              "Name: species, Length: 281, dtype: int64"
            ]
          },
          "metadata": {
            "tags": []
          },
          "execution_count": 22
        }
      ]
    },
    {
      "cell_type": "code",
      "metadata": {
        "id": "QP3Twck0QtAq",
        "colab_type": "code",
        "colab": {
          "base_uri": "https://localhost:8080/",
          "height": 283
        },
        "outputId": "578b6a5c-c48a-4d6e-dd48-862355ef471b"
      },
      "source": [
        "images['species'].value_counts().plot()"
      ],
      "execution_count": 23,
      "outputs": [
        {
          "output_type": "execute_result",
          "data": {
            "text/plain": [
              "<matplotlib.axes._subplots.AxesSubplot at 0x7ff295b1a438>"
            ]
          },
          "metadata": {
            "tags": []
          },
          "execution_count": 23
        },
        {
          "output_type": "display_data",
          "data": {
            "image/png": "[encoded data removed]",
            "text/plain": [
              "<Figure size 432x288 with 1 Axes>"
            ]
          },
          "metadata": {
            "tags": [],
            "needs_background": "light"
          }
        }
      ]
    },
    {
      "cell_type": "markdown",
      "metadata": {
        "id": "QaPXkin7rfZa",
        "colab_type": "text"
      },
      "source": [
        "# Drop classes which still have not enough images"
      ]
    },
    {
      "cell_type": "code",
      "metadata": {
        "id": "R_8I7T5Jgps_",
        "colab_type": "code",
        "colab": {}
      },
      "source": [
        "count = images.groupby('species').count()\n",
        "minor_genus = count.loc[count['filename'] < MIN_IMAGES]\n",
        "drop_list = minor_genus.index.to_list()"
      ],
      "execution_count": 24,
      "outputs": []
    },
    {
      "cell_type": "code",
      "metadata": {
        "id": "eAG6nZXHiNdw",
        "colab_type": "code",
        "colab": {}
      },
      "source": [
        "images = images[~images['species'].isin(drop_list)].reset_index(drop=True)"
      ],
      "execution_count": 25,
      "outputs": []
    },
    {
      "cell_type": "code",
      "metadata": {
        "id": "16RV52qCkyMK",
        "colab_type": "code",
        "colab": {
          "base_uri": "https://localhost:8080/",
          "height": 283
        },
        "outputId": "0233c7c2-a39f-4ae8-d945-980ea5b66a90"
      },
      "source": [
        "images['species'].value_counts().plot()"
      ],
      "execution_count": 28,
      "outputs": [
        {
          "output_type": "execute_result",
          "data": {
            "text/plain": [
              "<matplotlib.axes._subplots.AxesSubplot at 0x7ff2956c9828>"
            ]
          },
          "metadata": {
            "tags": []
          },
          "execution_count": 28
        },
        {
          "output_type": "display_data",
          "data": {
            "image/png": "[encoded data removed]",
            "text/plain": [
              "<Figure size 432x288 with 1 Axes>"
            ]
          },
          "metadata": {
            "tags": [],
            "needs_background": "light"
          }
        }
      ]
    },
    {
      "cell_type": "code",
      "metadata": {
        "id": "A0wWJ-K1yz-x",
        "colab_type": "code",
        "colab": {
          "base_uri": "https://localhost:8080/",
          "height": 225
        },
        "outputId": "2da65639-b441-4978-90c0-c9d95be6cc37"
      },
      "source": [
        "images['species'].value_counts()"
      ],
      "execution_count": 29,
      "outputs": [
        {
          "output_type": "execute_result",
          "data": {
            "text/plain": [
              "Carduelis Carduelis      345\n",
              "Asio Otus                315\n",
              "Haematopus Ostralegus    301\n",
              "Accipiter Nisus          301\n",
              "Accipiter Gentilis       301\n",
              "                        ... \n",
              "Riparia Riparia           51\n",
              "Mareca Strepera           51\n",
              "Zoothera Aurea            50\n",
              "Monticola Solitarius      50\n",
              "Spinus sp.                50\n",
              "Name: species, Length: 213, dtype: int64"
            ]
          },
          "metadata": {
            "tags": []
          },
          "execution_count": 29
        }
      ]
    },
    {
      "cell_type": "code",
      "metadata": {
        "id": "HeHAJUT2y_Om",
        "colab_type": "code",
        "colab": {}
      },
      "source": [
        "images.to_csv('feathers_data_normalized.csv')"
      ],
      "execution_count": 30,
      "outputs": []
    }
  ]
}
