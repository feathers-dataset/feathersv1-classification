{
  "nbformat": 4,
  "nbformat_minor": 0,
  "metadata": {
    "colab": {
      "name": "Copy of Class_normalization.ipynb",
      "provenance": [],
      "collapsed_sections": [],
      "toc_visible": true
    },
    "kernelspec": {
      "name": "python3",
      "display_name": "Python 3"
    }
  },
  "cells": [
    {
      "cell_type": "code",
      "metadata": {
        "id": "IsJbempRGWA3"
      },
      "source": [
        "import pandas as pd\n",
        "import numpy as np"
      ],
      "execution_count": 1,
      "outputs": []
    },
    {
      "cell_type": "markdown",
      "metadata": {
        "id": "FfVDy3kDKrGM"
      },
      "source": [
        "# Load full list of images\n",
        "Classes with more than 300 images cut down"
      ]
    },
    {
      "cell_type": "code",
      "metadata": {
        "id": "u-ot8hBBKDTa"
      },
      "source": [
        "DATASET_CSV = \"feathers_data_cut.csv\"\n",
        "MIN_IMAGES = 50\n",
        "MAX_IMAGES = 300"
      ],
      "execution_count": 7,
      "outputs": []
    },
    {
      "cell_type": "code",
      "metadata": {
        "id": "h0JoVx35K1Ou",
        "outputId": "6d22b68a-7206-4f98-f3a5-a66b01d523fb",
        "colab": {
          "base_uri": "https://localhost:8080/",
          "height": 202
        }
      },
      "source": [
        "images = pd.read_csv(DATASET_CSV)\n",
        "images.head()"
      ],
      "execution_count": 8,
      "outputs": [
        {
          "output_type": "execute_result",
          "data": {
            "text/html": [
              "<div>\n",
              "<style scoped>\n",
              "    .dataframe tbody tr th:only-of-type {\n",
              "        vertical-align: middle;\n",
              "    }\n",
              "\n",
              "    .dataframe tbody tr th {\n",
              "        vertical-align: top;\n",
              "    }\n",
              "\n",
              "    .dataframe thead th {\n",
              "        text-align: right;\n",
              "    }\n",
              "</style>\n",
              "<table border=\"1\" class=\"dataframe\">\n",
              "  <thead>\n",
              "    <tr style=\"text-align: right;\">\n",
              "      <th></th>\n",
              "      <th>filename</th>\n",
              "      <th>order</th>\n",
              "      <th>species</th>\n",
              "    </tr>\n",
              "  </thead>\n",
              "  <tbody>\n",
              "    <tr>\n",
              "      <th>0</th>\n",
              "      <td>accipitriformes_accipiter_brevipes_00000.jpg</td>\n",
              "      <td>Accipitriformes</td>\n",
              "      <td>Accipiter Brevipes</td>\n",
              "    </tr>\n",
              "    <tr>\n",
              "      <th>1</th>\n",
              "      <td>accipitriformes_accipiter_brevipes_00001.jpg</td>\n",
              "      <td>Accipitriformes</td>\n",
              "      <td>Accipiter Brevipes</td>\n",
              "    </tr>\n",
              "    <tr>\n",
              "      <th>2</th>\n",
              "      <td>accipitriformes_accipiter_brevipes_00002.jpg</td>\n",
              "      <td>Accipitriformes</td>\n",
              "      <td>Accipiter Brevipes</td>\n",
              "    </tr>\n",
              "    <tr>\n",
              "      <th>3</th>\n",
              "      <td>accipitriformes_accipiter_brevipes_00003.jpg</td>\n",
              "      <td>Accipitriformes</td>\n",
              "      <td>Accipiter Brevipes</td>\n",
              "    </tr>\n",
              "    <tr>\n",
              "      <th>4</th>\n",
              "      <td>accipitriformes_accipiter_brevipes_00004.jpg</td>\n",
              "      <td>Accipitriformes</td>\n",
              "      <td>Accipiter Brevipes</td>\n",
              "    </tr>\n",
              "  </tbody>\n",
              "</table>\n",
              "</div>"
            ],
            "text/plain": [
              "                                       filename  ...             species\n",
              "0  accipitriformes_accipiter_brevipes_00000.jpg  ...  Accipiter Brevipes\n",
              "1  accipitriformes_accipiter_brevipes_00001.jpg  ...  Accipiter Brevipes\n",
              "2  accipitriformes_accipiter_brevipes_00002.jpg  ...  Accipiter Brevipes\n",
              "3  accipitriformes_accipiter_brevipes_00003.jpg  ...  Accipiter Brevipes\n",
              "4  accipitriformes_accipiter_brevipes_00004.jpg  ...  Accipiter Brevipes\n",
              "\n",
              "[5 rows x 3 columns]"
            ]
          },
          "metadata": {
            "tags": []
          },
          "execution_count": 8
        }
      ]
    },
    {
      "cell_type": "code",
      "metadata": {
        "id": "guVgbF9RRfD_",
        "outputId": "79892485-78b1-44e1-caf7-1bc3fcfb5847",
        "colab": {
          "base_uri": "https://localhost:8080/",
          "height": 283
        }
      },
      "source": [
        "images['species'].value_counts().plot()"
      ],
      "execution_count": 9,
      "outputs": [
        {
          "output_type": "execute_result",
          "data": {
            "text/plain": [
              "<matplotlib.axes._subplots.AxesSubplot at 0x7f03b06bdba8>"
            ]
          },
          "metadata": {
            "tags": []
          },
          "execution_count": 9
        },
        {
          "output_type": "display_data",
          "data": {
            "image/png": "[encoded data removed]",
            "text/plain": [
              "<Figure size 432x288 with 1 Axes>"
            ]
          },
          "metadata": {
            "tags": [],
            "needs_background": "light"
          }
        }
      ]
    },
    {
      "cell_type": "markdown",
      "metadata": {
        "id": "zxu-x-fRoTEF"
      },
      "source": [
        "# Add taxonomic family\n",
        "Birds taxonomic is based on The Howard and Moore complete checklist of the birds of the world, 4th. ed.\n",
        "Downloaded from howardandmoore.org (currently unavailable)"
      ]
    },
    {
      "cell_type": "code",
      "metadata": {
        "id": "-LfeQQrKkpT6",
        "outputId": "7132ed76-239c-4cd0-f94b-e6b6f04f7f35",
        "colab": {
          "base_uri": "https://localhost:8080/",
          "height": 202
        }
      },
      "source": [
        "HOWARDMOORE_DATA = \"HowardMooreDataset.csv\"\n",
        "taxonomy = pd.read_csv(HOWARDMOORE_DATA)\n",
        "taxonomy.tail()"
      ],
      "execution_count": 10,
      "outputs": [
        {
          "output_type": "execute_result",
          "data": {
            "text/html": [
              "<div>\n",
              "<style scoped>\n",
              "    .dataframe tbody tr th:only-of-type {\n",
              "        vertical-align: middle;\n",
              "    }\n",
              "\n",
              "    .dataframe tbody tr th {\n",
              "        vertical-align: top;\n",
              "    }\n",
              "\n",
              "    .dataframe thead th {\n",
              "        text-align: right;\n",
              "    }\n",
              "</style>\n",
              "<table border=\"1\" class=\"dataframe\">\n",
              "  <thead>\n",
              "    <tr style=\"text-align: right;\">\n",
              "      <th></th>\n",
              "      <th>family</th>\n",
              "      <th>genus</th>\n",
              "      <th>species</th>\n",
              "      <th>species english</th>\n",
              "    </tr>\n",
              "  </thead>\n",
              "  <tbody>\n",
              "    <tr>\n",
              "      <th>26152</th>\n",
              "      <td>TURDIDAE</td>\n",
              "      <td>TURDUS</td>\n",
              "      <td>Turdus ruficollis</td>\n",
              "      <td>Red-throated Thrush</td>\n",
              "    </tr>\n",
              "    <tr>\n",
              "      <th>26153</th>\n",
              "      <td>TURDIDAE</td>\n",
              "      <td>CATAPONERA</td>\n",
              "      <td>Cataponera turdoides</td>\n",
              "      <td>Sulawesi Thrush</td>\n",
              "    </tr>\n",
              "    <tr>\n",
              "      <th>26154</th>\n",
              "      <td>TURDIDAE</td>\n",
              "      <td>CATAPONERA</td>\n",
              "      <td>Cataponera turdoides</td>\n",
              "      <td>Sulawesi Thrush</td>\n",
              "    </tr>\n",
              "    <tr>\n",
              "      <th>26155</th>\n",
              "      <td>TURDIDAE</td>\n",
              "      <td>CATAPONERA</td>\n",
              "      <td>Cataponera turdoides</td>\n",
              "      <td>Sulawesi Thrush</td>\n",
              "    </tr>\n",
              "    <tr>\n",
              "      <th>26156</th>\n",
              "      <td>TURDIDAE</td>\n",
              "      <td>CATAPONERA</td>\n",
              "      <td>Cataponera turdoides</td>\n",
              "      <td>Sulawesi Thrush</td>\n",
              "    </tr>\n",
              "  </tbody>\n",
              "</table>\n",
              "</div>"
            ],
            "text/plain": [
              "         family       genus               species      species english\n",
              "26152  TURDIDAE      TURDUS     Turdus ruficollis  Red-throated Thrush\n",
              "26153  TURDIDAE  CATAPONERA  Cataponera turdoides      Sulawesi Thrush\n",
              "26154  TURDIDAE  CATAPONERA  Cataponera turdoides      Sulawesi Thrush\n",
              "26155  TURDIDAE  CATAPONERA  Cataponera turdoides      Sulawesi Thrush\n",
              "26156  TURDIDAE  CATAPONERA  Cataponera turdoides      Sulawesi Thrush"
            ]
          },
          "metadata": {
            "tags": []
          },
          "execution_count": 10
        }
      ]
    },
    {
      "cell_type": "code",
      "metadata": {
        "id": "ZRPMaLOTHqMY"
      },
      "source": [
        "families = taxonomy.drop(['genus', 'species english'], axis=1)\n",
        "families = families.drop_duplicates(subset=['species']).reset_index(drop=True)"
      ],
      "execution_count": 11,
      "outputs": []
    },
    {
      "cell_type": "code",
      "metadata": {
        "id": "19P4Ndh4Ilzx",
        "outputId": "63d06095-62c6-42cf-efb2-489e0956f6ca",
        "colab": {
          "base_uri": "https://localhost:8080/",
          "height": 202
        }
      },
      "source": [
        "families.tail()"
      ],
      "execution_count": 12,
      "outputs": [
        {
          "output_type": "execute_result",
          "data": {
            "text/html": [
              "<div>\n",
              "<style scoped>\n",
              "    .dataframe tbody tr th:only-of-type {\n",
              "        vertical-align: middle;\n",
              "    }\n",
              "\n",
              "    .dataframe tbody tr th {\n",
              "        vertical-align: top;\n",
              "    }\n",
              "\n",
              "    .dataframe thead th {\n",
              "        text-align: right;\n",
              "    }\n",
              "</style>\n",
              "<table border=\"1\" class=\"dataframe\">\n",
              "  <thead>\n",
              "    <tr style=\"text-align: right;\">\n",
              "      <th></th>\n",
              "      <th>family</th>\n",
              "      <th>species</th>\n",
              "    </tr>\n",
              "  </thead>\n",
              "  <tbody>\n",
              "    <tr>\n",
              "      <th>10130</th>\n",
              "      <td>TURDIDAE</td>\n",
              "      <td>Turdus naumanni</td>\n",
              "    </tr>\n",
              "    <tr>\n",
              "      <th>10131</th>\n",
              "      <td>TURDIDAE</td>\n",
              "      <td>Turdus eunomus</td>\n",
              "    </tr>\n",
              "    <tr>\n",
              "      <th>10132</th>\n",
              "      <td>TURDIDAE</td>\n",
              "      <td>Turdus atrogularis</td>\n",
              "    </tr>\n",
              "    <tr>\n",
              "      <th>10133</th>\n",
              "      <td>TURDIDAE</td>\n",
              "      <td>Turdus ruficollis</td>\n",
              "    </tr>\n",
              "    <tr>\n",
              "      <th>10134</th>\n",
              "      <td>TURDIDAE</td>\n",
              "      <td>Cataponera turdoides</td>\n",
              "    </tr>\n",
              "  </tbody>\n",
              "</table>\n",
              "</div>"
            ],
            "text/plain": [
              "         family               species\n",
              "10130  TURDIDAE       Turdus naumanni\n",
              "10131  TURDIDAE        Turdus eunomus\n",
              "10132  TURDIDAE    Turdus atrogularis\n",
              "10133  TURDIDAE     Turdus ruficollis\n",
              "10134  TURDIDAE  Cataponera turdoides"
            ]
          },
          "metadata": {
            "tags": []
          },
          "execution_count": 12
        }
      ]
    },
    {
      "cell_type": "code",
      "metadata": {
        "id": "fFHN089QZFil"
      },
      "source": [
        "images.species = images.species.str.strip()\n",
        "families.species = families.species.str.strip()\n",
        "families['family'] = families['family'].str.title()\n",
        "\n",
        "images['species'] = images['species'].str.title()\n",
        "families['species'] = families['species'].str.title()"
      ],
      "execution_count": 13,
      "outputs": []
    },
    {
      "cell_type": "code",
      "metadata": {
        "id": "KLu46rlVFRx_"
      },
      "source": [
        "images = pd.merge(images, families, on=['species'])"
      ],
      "execution_count": 14,
      "outputs": []
    },
    {
      "cell_type": "code",
      "metadata": {
        "id": "Ken9xL3fF2-I",
        "outputId": "ee1ae36b-dd7f-49b9-abc0-c8f54ec6e757",
        "colab": {
          "base_uri": "https://localhost:8080/",
          "height": 202
        }
      },
      "source": [
        "images.head()"
      ],
      "execution_count": 15,
      "outputs": [
        {
          "output_type": "execute_result",
          "data": {
            "text/html": [
              "<div>\n",
              "<style scoped>\n",
              "    .dataframe tbody tr th:only-of-type {\n",
              "        vertical-align: middle;\n",
              "    }\n",
              "\n",
              "    .dataframe tbody tr th {\n",
              "        vertical-align: top;\n",
              "    }\n",
              "\n",
              "    .dataframe thead th {\n",
              "        text-align: right;\n",
              "    }\n",
              "</style>\n",
              "<table border=\"1\" class=\"dataframe\">\n",
              "  <thead>\n",
              "    <tr style=\"text-align: right;\">\n",
              "      <th></th>\n",
              "      <th>filename</th>\n",
              "      <th>order</th>\n",
              "      <th>species</th>\n",
              "      <th>family</th>\n",
              "    </tr>\n",
              "  </thead>\n",
              "  <tbody>\n",
              "    <tr>\n",
              "      <th>0</th>\n",
              "      <td>accipitriformes_accipiter_brevipes_00000.jpg</td>\n",
              "      <td>Accipitriformes</td>\n",
              "      <td>Accipiter Brevipes</td>\n",
              "      <td>Accipitridae</td>\n",
              "    </tr>\n",
              "    <tr>\n",
              "      <th>1</th>\n",
              "      <td>accipitriformes_accipiter_brevipes_00001.jpg</td>\n",
              "      <td>Accipitriformes</td>\n",
              "      <td>Accipiter Brevipes</td>\n",
              "      <td>Accipitridae</td>\n",
              "    </tr>\n",
              "    <tr>\n",
              "      <th>2</th>\n",
              "      <td>accipitriformes_accipiter_brevipes_00002.jpg</td>\n",
              "      <td>Accipitriformes</td>\n",
              "      <td>Accipiter Brevipes</td>\n",
              "      <td>Accipitridae</td>\n",
              "    </tr>\n",
              "    <tr>\n",
              "      <th>3</th>\n",
              "      <td>accipitriformes_accipiter_brevipes_00003.jpg</td>\n",
              "      <td>Accipitriformes</td>\n",
              "      <td>Accipiter Brevipes</td>\n",
              "      <td>Accipitridae</td>\n",
              "    </tr>\n",
              "    <tr>\n",
              "      <th>4</th>\n",
              "      <td>accipitriformes_accipiter_brevipes_00004.jpg</td>\n",
              "      <td>Accipitriformes</td>\n",
              "      <td>Accipiter Brevipes</td>\n",
              "      <td>Accipitridae</td>\n",
              "    </tr>\n",
              "  </tbody>\n",
              "</table>\n",
              "</div>"
            ],
            "text/plain": [
              "                                       filename  ...        family\n",
              "0  accipitriformes_accipiter_brevipes_00000.jpg  ...  Accipitridae\n",
              "1  accipitriformes_accipiter_brevipes_00001.jpg  ...  Accipitridae\n",
              "2  accipitriformes_accipiter_brevipes_00002.jpg  ...  Accipitridae\n",
              "3  accipitriformes_accipiter_brevipes_00003.jpg  ...  Accipitridae\n",
              "4  accipitriformes_accipiter_brevipes_00004.jpg  ...  Accipitridae\n",
              "\n",
              "[5 rows x 4 columns]"
            ]
          },
          "metadata": {
            "tags": []
          },
          "execution_count": 15
        }
      ]
    },
    {
      "cell_type": "markdown",
      "metadata": {
        "id": "H91q7FDKqkGf"
      },
      "source": [
        "# Merge minor species by genus"
      ]
    },
    {
      "cell_type": "code",
      "metadata": {
        "id": "0gHRjp8uNjR5"
      },
      "source": [
        "count = images.groupby('species').count()"
      ],
      "execution_count": 16,
      "outputs": []
    },
    {
      "cell_type": "code",
      "metadata": {
        "id": "gUjZ6lpujHaS"
      },
      "source": [
        "minor_species = count.loc[count['filename'] < MIN_IMAGES]"
      ],
      "execution_count": 17,
      "outputs": []
    },
    {
      "cell_type": "code",
      "metadata": {
        "id": "4djLt3N1lTzl"
      },
      "source": [
        "species_list = minor_species.index.to_list()"
      ],
      "execution_count": 18,
      "outputs": []
    },
    {
      "cell_type": "code",
      "metadata": {
        "id": "k2z78VwDZcKD"
      },
      "source": [
        "def merge_species(name):\n",
        "  name = name.split(' ')[0] + \" sp.\"\n",
        "  return name"
      ],
      "execution_count": 19,
      "outputs": []
    },
    {
      "cell_type": "code",
      "metadata": {
        "id": "dFmSdseLOSUv"
      },
      "source": [
        "images['class'] = images['species'].apply(lambda x : merge_species(x) if x in species_list else x)"
      ],
      "execution_count": 20,
      "outputs": []
    },
    {
      "cell_type": "code",
      "metadata": {
        "id": "oNSaM-ufssIl",
        "outputId": "04a5c8f4-d0e2-4334-e284-3f7c89402138",
        "colab": {
          "base_uri": "https://localhost:8080/",
          "height": 202
        }
      },
      "source": [
        "images.tail()"
      ],
      "execution_count": 21,
      "outputs": [
        {
          "output_type": "execute_result",
          "data": {
            "text/html": [
              "<div>\n",
              "<style scoped>\n",
              "    .dataframe tbody tr th:only-of-type {\n",
              "        vertical-align: middle;\n",
              "    }\n",
              "\n",
              "    .dataframe tbody tr th {\n",
              "        vertical-align: top;\n",
              "    }\n",
              "\n",
              "    .dataframe thead th {\n",
              "        text-align: right;\n",
              "    }\n",
              "</style>\n",
              "<table border=\"1\" class=\"dataframe\">\n",
              "  <thead>\n",
              "    <tr style=\"text-align: right;\">\n",
              "      <th></th>\n",
              "      <th>filename</th>\n",
              "      <th>order</th>\n",
              "      <th>species</th>\n",
              "      <th>family</th>\n",
              "      <th>class</th>\n",
              "    </tr>\n",
              "  </thead>\n",
              "  <tbody>\n",
              "    <tr>\n",
              "      <th>25187</th>\n",
              "      <td>coraciiformes_megaceryle_torquata_00034.jpg</td>\n",
              "      <td>Coraciiformes</td>\n",
              "      <td>Megaceryle Torquata</td>\n",
              "      <td>Alcedinidae</td>\n",
              "      <td>Megaceryle sp.</td>\n",
              "    </tr>\n",
              "    <tr>\n",
              "      <th>25188</th>\n",
              "      <td>coraciiformes_megaceryle_torquata_00035.jpg</td>\n",
              "      <td>Coraciiformes</td>\n",
              "      <td>Megaceryle Torquata</td>\n",
              "      <td>Alcedinidae</td>\n",
              "      <td>Megaceryle sp.</td>\n",
              "    </tr>\n",
              "    <tr>\n",
              "      <th>25189</th>\n",
              "      <td>coraciiformes_megaceryle_torquata_00036.jpg</td>\n",
              "      <td>Coraciiformes</td>\n",
              "      <td>Megaceryle Torquata</td>\n",
              "      <td>Alcedinidae</td>\n",
              "      <td>Megaceryle sp.</td>\n",
              "    </tr>\n",
              "    <tr>\n",
              "      <th>25190</th>\n",
              "      <td>coraciiformes_megaceryle_torquata_00037.jpg</td>\n",
              "      <td>Coraciiformes</td>\n",
              "      <td>Megaceryle Torquata</td>\n",
              "      <td>Alcedinidae</td>\n",
              "      <td>Megaceryle sp.</td>\n",
              "    </tr>\n",
              "    <tr>\n",
              "      <th>25191</th>\n",
              "      <td>coraciiformes_megaceryle_torquata_00038.jpg</td>\n",
              "      <td>Coraciiformes</td>\n",
              "      <td>Megaceryle Torquata</td>\n",
              "      <td>Alcedinidae</td>\n",
              "      <td>Megaceryle sp.</td>\n",
              "    </tr>\n",
              "  </tbody>\n",
              "</table>\n",
              "</div>"
            ],
            "text/plain": [
              "                                          filename  ...           class\n",
              "25187  coraciiformes_megaceryle_torquata_00034.jpg  ...  Megaceryle sp.\n",
              "25188  coraciiformes_megaceryle_torquata_00035.jpg  ...  Megaceryle sp.\n",
              "25189  coraciiformes_megaceryle_torquata_00036.jpg  ...  Megaceryle sp.\n",
              "25190  coraciiformes_megaceryle_torquata_00037.jpg  ...  Megaceryle sp.\n",
              "25191  coraciiformes_megaceryle_torquata_00038.jpg  ...  Megaceryle sp.\n",
              "\n",
              "[5 rows x 5 columns]"
            ]
          },
          "metadata": {
            "tags": []
          },
          "execution_count": 21
        }
      ]
    },
    {
      "cell_type": "code",
      "metadata": {
        "id": "7Oj-89UTszVT",
        "outputId": "0167cd7f-4057-4612-884f-51063bfe3de6",
        "colab": {
          "base_uri": "https://localhost:8080/"
        }
      },
      "source": [
        "images['class'].value_counts()"
      ],
      "execution_count": 22,
      "outputs": [
        {
          "output_type": "execute_result",
          "data": {
            "text/plain": [
              "Haematopus Ostralegus    301\n",
              "Garrulus Glandarius      300\n",
              "Accipiter Gentilis       300\n",
              "Carduelis Carduelis      300\n",
              "Accipiter Nisus          300\n",
              "                        ... \n",
              "Temnurus sp.               2\n",
              "Clamator sp.               1\n",
              "Argusianus sp.             1\n",
              "Guttera sp.                1\n",
              "Francolinus sp.            1\n",
              "Name: class, Length: 412, dtype: int64"
            ]
          },
          "metadata": {
            "tags": []
          },
          "execution_count": 22
        }
      ]
    },
    {
      "cell_type": "code",
      "metadata": {
        "id": "xp3wJ8qZRXpo",
        "outputId": "79e52eaa-098d-4437-e4fe-1fad17ebb61c",
        "colab": {
          "base_uri": "https://localhost:8080/",
          "height": 283
        }
      },
      "source": [
        "images['class'].value_counts().plot()"
      ],
      "execution_count": 23,
      "outputs": [
        {
          "output_type": "execute_result",
          "data": {
            "text/plain": [
              "<matplotlib.axes._subplots.AxesSubplot at 0x7f03ae9a2400>"
            ]
          },
          "metadata": {
            "tags": []
          },
          "execution_count": 23
        },
        {
          "output_type": "display_data",
          "data": {
            "image/png": "[encoded data removed]",
            "text/plain": [
              "<Figure size 432x288 with 1 Axes>"
            ]
          },
          "metadata": {
            "tags": [],
            "needs_background": "light"
          }
        }
      ]
    },
    {
      "cell_type": "markdown",
      "metadata": {
        "id": "C1psPsrBqwKa"
      },
      "source": [
        "# Merge minor genuses by family"
      ]
    },
    {
      "cell_type": "code",
      "metadata": {
        "id": "no5YQqmNM-3F"
      },
      "source": [
        "def merge_genuses(row):\n",
        "    if (row['class'] in genus_list):\n",
        "        return row['family']\n",
        "    else:\n",
        "      return row['class']"
      ],
      "execution_count": 24,
      "outputs": []
    },
    {
      "cell_type": "code",
      "metadata": {
        "id": "Im4hPrxZNicl"
      },
      "source": [
        "count = images.groupby('class').count()\n",
        "minor_genus = count.loc[count['filename'] < MIN_IMAGES]\n",
        "genus_list = minor_genus.index.to_list()"
      ],
      "execution_count": 25,
      "outputs": []
    },
    {
      "cell_type": "code",
      "metadata": {
        "id": "2erwIv-g6gnv"
      },
      "source": [
        "images['class'] = images.apply(merge_genuses, axis = 1)"
      ],
      "execution_count": 26,
      "outputs": []
    },
    {
      "cell_type": "code",
      "metadata": {
        "id": "dPZQDgWgQnFi",
        "outputId": "6d2d597c-0b11-4da8-d318-e872d88b9f16",
        "colab": {
          "base_uri": "https://localhost:8080/"
        }
      },
      "source": [
        "images['class'].value_counts()"
      ],
      "execution_count": 27,
      "outputs": [
        {
          "output_type": "execute_result",
          "data": {
            "text/plain": [
              "Haematopus Ostralegus    301\n",
              "Accipiter Nisus          300\n",
              "Carduelis Carduelis      300\n",
              "Accipiter Gentilis       300\n",
              "Garrulus Glandarius      300\n",
              "                        ... \n",
              "Cracidae                   6\n",
              "Sulidae                    5\n",
              "Icteridae                  3\n",
              "Phaenicophilidae           3\n",
              "Numididae                  1\n",
              "Name: class, Length: 281, dtype: int64"
            ]
          },
          "metadata": {
            "tags": []
          },
          "execution_count": 27
        }
      ]
    },
    {
      "cell_type": "code",
      "metadata": {
        "id": "QP3Twck0QtAq",
        "outputId": "b3aab194-987d-4645-8789-736966a09040",
        "colab": {
          "base_uri": "https://localhost:8080/",
          "height": 283
        }
      },
      "source": [
        "images['class'].value_counts().plot()"
      ],
      "execution_count": 28,
      "outputs": [
        {
          "output_type": "execute_result",
          "data": {
            "text/plain": [
              "<matplotlib.axes._subplots.AxesSubplot at 0x7f03b9771e10>"
            ]
          },
          "metadata": {
            "tags": []
          },
          "execution_count": 28
        },
        {
          "output_type": "display_data",
          "data": {
            "image/png": "[encoded data removed]",
            "text/plain": [
              "<Figure size 432x288 with 1 Axes>"
            ]
          },
          "metadata": {
            "tags": [],
            "needs_background": "light"
          }
        }
      ]
    },
    {
      "cell_type": "markdown",
      "metadata": {
        "id": "QaPXkin7rfZa"
      },
      "source": [
        "# Drop classes which still have not enough images"
      ]
    },
    {
      "cell_type": "code",
      "metadata": {
        "id": "R_8I7T5Jgps_"
      },
      "source": [
        "count = images.groupby('class').count()\n",
        "minor_genus = count.loc[count['filename'] < MIN_IMAGES]\n",
        "drop_list = minor_genus.index.to_list()"
      ],
      "execution_count": 29,
      "outputs": []
    },
    {
      "cell_type": "code",
      "metadata": {
        "id": "eAG6nZXHiNdw"
      },
      "source": [
        "images = images[~images['class'].isin(drop_list)].reset_index(drop=True)"
      ],
      "execution_count": 30,
      "outputs": []
    },
    {
      "cell_type": "code",
      "metadata": {
        "id": "16RV52qCkyMK",
        "outputId": "d2e3d6bb-67fa-4575-b862-30be90d3c1bd",
        "colab": {
          "base_uri": "https://localhost:8080/",
          "height": 283
        }
      },
      "source": [
        "images['class'].value_counts().plot()"
      ],
      "execution_count": 31,
      "outputs": [
        {
          "output_type": "execute_result",
          "data": {
            "text/plain": [
              "<matplotlib.axes._subplots.AxesSubplot at 0x7f03b01586a0>"
            ]
          },
          "metadata": {
            "tags": []
          },
          "execution_count": 31
        },
        {
          "output_type": "display_data",
          "data": {
            "image/png": "[encoded data removed]",
            "text/plain": [
              "<Figure size 432x288 with 1 Axes>"
            ]
          },
          "metadata": {
            "tags": [],
            "needs_background": "light"
          }
        }
      ]
    },
    {
      "cell_type": "code",
      "metadata": {
        "id": "A0wWJ-K1yz-x",
        "outputId": "17a4b979-02f8-4cbc-8641-1d05ebc54dbf",
        "colab": {
          "base_uri": "https://localhost:8080/"
        }
      },
      "source": [
        "images['class'].value_counts()"
      ],
      "execution_count": 32,
      "outputs": [
        {
          "output_type": "execute_result",
          "data": {
            "text/plain": [
              "Haematopus Ostralegus    301\n",
              "Accipiter Gentilis       300\n",
              "Carduelis Carduelis      300\n",
              "Garrulus Glandarius      300\n",
              "Accipiter Nisus          300\n",
              "                        ... \n",
              "Riparia Riparia           51\n",
              "Mareca Strepera           51\n",
              "Monticola Solitarius      50\n",
              "Spinus sp.                50\n",
              "Zoothera Aurea            50\n",
              "Name: class, Length: 213, dtype: int64"
            ]
          },
          "metadata": {
            "tags": []
          },
          "execution_count": 32
        }
      ]
    },
    {
      "cell_type": "code",
      "metadata": {
        "id": "HeHAJUT2y_Om"
      },
      "source": [
        "images.to_csv('feathers_data_normalized.csv')"
      ],
      "execution_count": 33,
      "outputs": []
    },
    {
      "cell_type": "code",
      "metadata": {
        "id": "ekRZ2bWj6vhi"
      },
      "source": [
        "from sklearn.model_selection import train_test_split\n",
        "\n",
        "train, test = train_test_split(images, test_size=0.2)\n",
        "\n",
        "test.to_csv('test_normalized_species.csv')\n",
        "train.to_csv('train_normalized_species.csv')"
      ],
      "execution_count": 34,
      "outputs": []
    }
  ]
}